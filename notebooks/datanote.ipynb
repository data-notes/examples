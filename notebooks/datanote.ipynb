{
 "cells": [
  {
   "cell_type": "markdown",
   "metadata": {
    "slideshow": {
     "slide_type": "skip"
    },
    "toc": true
   },
   "source": [
    "<h1>Table of Contents<span class=\"tocSkip\"></span></h1>\n",
    "<div class=\"toc\"><ul class=\"toc-item\"><li><span><a href=\"#DATANOTE\" data-toc-modified-id=\"DATANOTE-1\">DATANOTE</a></span><ul class=\"toc-item\"><li><span><a href=\"#Motivation\" data-toc-modified-id=\"Motivation-1.1\">Motivation</a></span><ul class=\"toc-item\"><li><span><a href=\"#I’m-Paolo\" data-toc-modified-id=\"I’m-Paolo-1.1.1\">I’m Paolo</a></span></li><li><span><a href=\"#Proof\" data-toc-modified-id=\"Proof-1.1.2\">Proof</a></span></li><li><span><a href=\"#A-new-mission\" data-toc-modified-id=\"A-new-mission-1.1.3\">A new mission</a></span></li></ul></li><li><span><a href=\"#The-environment\" data-toc-modified-id=\"The-environment-1.2\">The environment</a></span><ul class=\"toc-item\"><li><span><a href=\"#infrastructure:-containers\" data-toc-modified-id=\"infrastructure:-containers-1.2.1\">infrastructure: containers</a></span></li><li><span><a href=\"#development:-notebooks\" data-toc-modified-id=\"development:-notebooks-1.2.2\">development: notebooks</a></span><ul class=\"toc-item\"><li><span><a href=\"#advantages\" data-toc-modified-id=\"advantages-1.2.2.1\">advantages</a></span></li><li><span><a href=\"#pain-points\" data-toc-modified-id=\"pain-points-1.2.2.2\">pain points</a></span></li><li><span><a href=\"#data-packages\" data-toc-modified-id=\"data-packages-1.2.2.3\">data packages</a></span></li></ul></li><li><span><a href=\"#beatiful-is-better-than-ugly\" data-toc-modified-id=\"beatiful-is-better-than-ugly-1.2.3\">beatiful is better than ugly</a></span><ul class=\"toc-item\"><li><span><a href=\"#functions\" data-toc-modified-id=\"functions-1.2.3.1\">functions</a></span></li><li><span><a href=\"#linter\" data-toc-modified-id=\"linter-1.2.3.2\">linter</a></span></li><li><span><a href=\"#more\" data-toc-modified-id=\"more-1.2.3.3\">more</a></span></li></ul></li><li><span><a href=\"#it's-a-kind-of-magic\" data-toc-modified-id=\"it's-a-kind-of-magic-1.2.4\">it's a kind of <em>magic</em></a></span></li><li><span><a href=\"#plugins\" data-toc-modified-id=\"plugins-1.2.5\">plugins</a></span></li><li><span><a href=\"#version-control\" data-toc-modified-id=\"version-control-1.2.6\">version control</a></span></li><li><span><a href=\"#sessions\" data-toc-modified-id=\"sessions-1.2.7\">sessions</a></span></li></ul></li><li><span><a href=\"#Simple-is-better-than-complicated\" data-toc-modified-id=\"Simple-is-better-than-complicated-1.3\">Simple is better than complicated</a></span><ul class=\"toc-item\"><li><span><a href=\"#writing-a-paper...\" data-toc-modified-id=\"writing-a-paper...-1.3.1\">writing a paper...</a></span></li><li><span><a href=\"#...that-turns-into-slides\" data-toc-modified-id=\"...that-turns-into-slides-1.3.2\">...that turns into slides</a></span></li><li><span><a href=\"#pythonic-workflows/pipeline\" data-toc-modified-id=\"pythonic-workflows/pipeline-1.3.3\">pythonic workflows/pipeline</a></span></li><li><span><a href=\"#functions-as-services\" data-toc-modified-id=\"functions-as-services-1.3.4\">functions as services</a></span></li></ul></li><li><span><a href=\"#Roadmap\" data-toc-modified-id=\"Roadmap-1.4\">Roadmap</a></span><ul class=\"toc-item\"><li><span><a href=\"#blog\" data-toc-modified-id=\"blog-1.4.1\">blog</a></span></li><li><span><a href=\"#pair-programming\" data-toc-modified-id=\"pair-programming-1.4.2\">pair programming</a></span></li><li><span><a href=\"#tech-crafter\" data-toc-modified-id=\"tech-crafter-1.4.3\">tech crafter</a></span><ul class=\"toc-item\"><li><span><a href=\"#The-five-hour-rule\" data-toc-modified-id=\"The-five-hour-rule-1.4.3.1\">The five-hour rule</a></span></li></ul></li></ul></li><li><span><a href=\"#THE-END\" data-toc-modified-id=\"THE-END-1.5\">THE END</a></span></li></ul></li></ul></div>"
   ]
  },
  {
   "cell_type": "markdown",
   "metadata": {
    "slideshow": {
     "slide_type": "slide"
    }
   },
   "source": [
    "# DATANOTE"
   ]
  },
  {
   "cell_type": "markdown",
   "metadata": {
    "slideshow": {
     "slide_type": "fragment"
    }
   },
   "source": [
    "A virtual place \n",
    "\n",
    "where `modern data-driven scientists` \n",
    "\n",
    "unfold the <b>magic</b> of coding"
   ]
  },
  {
   "cell_type": "markdown",
   "metadata": {
    "slideshow": {
     "slide_type": "fragment"
    }
   },
   "source": [
    "\n",
    "https://datanote.me\n",
    "\n",
    "<small>\n",
    "    Paolo D’Onorio De Meo \n",
    "    (paolo@datanote.me)\n",
    "</small>"
   ]
  },
  {
   "cell_type": "markdown",
   "metadata": {
    "slideshow": {
     "slide_type": "slide"
    }
   },
   "source": [
    "## Motivation\n",
    "\n",
    "e.g. my story"
   ]
  },
  {
   "cell_type": "markdown",
   "metadata": {
    "slideshow": {
     "slide_type": "subslide"
    }
   },
   "source": [
    "### I’m Paolo"
   ]
  },
  {
   "cell_type": "markdown",
   "metadata": {
    "slideshow": {
     "slide_type": "fragment"
    }
   },
   "source": [
    "+ Web app and infrastructure developer for data analysis"
   ]
  },
  {
   "cell_type": "markdown",
   "metadata": {
    "slideshow": {
     "slide_type": "fragment"
    }
   },
   "source": [
    "+ Really passionate about things I do!\n",
    "\n",
    "I've left my regular job to work in a startup, \n",
    "on a mission for a better internet for all\n"
   ]
  },
  {
   "cell_type": "markdown",
   "metadata": {
    "slideshow": {
     "slide_type": "subslide"
    }
   },
   "source": [
    "+ Senior developer \n",
    "    - 20+ years of experience\n",
    "\n",
    "+ Pipelines design, automatization and \n",
    "    - 10+ y experience: supporting data analysis \n",
    "    - High performance and High throughput context\n",
    "\n",
    "+ Management\n",
    "    - team leader\n",
    "    - technical coordinator\n",
    "    - supervisor\n",
    "    - product manager\n",
    "+ Speaker and traveler across Europe and USA"
   ]
  },
  {
   "cell_type": "markdown",
   "metadata": {
    "slideshow": {
     "slide_type": "subslide"
    }
   },
   "source": [
    "+ Love to teach \n",
    "    + Python and notebooks above all"
   ]
  },
  {
   "cell_type": "markdown",
   "metadata": {
    "slideshow": {
     "slide_type": "fragment"
    }
   },
   "source": [
    "+ Love even more [to make people understand from zero](https://twitter.com/paolodonorio/status/1224648947748278272)\n",
    "    + scientists with no programming background at all\n",
    "    + or that have random coding experience (e.g. from copy/paste)"
   ]
  },
  {
   "cell_type": "markdown",
   "metadata": {
    "slideshow": {
     "slide_type": "subslide"
    }
   },
   "source": [
    "### Proof\n",
    "\n",
    "https://proofmedia.io/about\n",
    "\n",
    "@CTO"
   ]
  },
  {
   "cell_type": "markdown",
   "metadata": {
    "slideshow": {
     "slide_type": "subslide"
    }
   },
   "source": [
    "- the wisdom of the crowd\n",
    "- educate on the use of the web, sources, trust\n",
    "- push journalism as it should be"
   ]
  },
  {
   "cell_type": "markdown",
   "metadata": {
    "slideshow": {
     "slide_type": "subslide"
    }
   },
   "source": [
    "\n",
    "> the truth is what we lean for\n",
    "\n",
    "e.g. read more about [Weinstein and #MeToo](https://www.huffpost.com/entry/megan-twohey-she-said-harvey-weinstein_n_5e332566c5b611ac94d18d6d)"
   ]
  },
  {
   "cell_type": "markdown",
   "metadata": {
    "slideshow": {
     "slide_type": "subslide"
    }
   },
   "source": [
    "### A new mission"
   ]
  },
  {
   "cell_type": "markdown",
   "metadata": {
    "slideshow": {
     "slide_type": "fragment"
    }
   },
   "source": [
    "How to allow better and faster (italian) science?"
   ]
  },
  {
   "cell_type": "markdown",
   "metadata": {
    "slideshow": {
     "slide_type": "subslide"
    }
   },
   "source": [
    "*The simplest idea*\n",
    "\n",
    "- supporting personally and teaching online to data scientists\n",
    "- push the usage of Python and Notebooks and the other incredible tools we have in 2020\n",
    "- towards data workflows/pipelines on analysis \"on steroids\"\n",
    "- see where the cloud fits and how"
   ]
  },
  {
   "cell_type": "markdown",
   "metadata": {
    "slideshow": {
     "slide_type": "subslide"
    }
   },
   "source": [
    "Fuel the passion,\n",
    "\n",
    "rediscover the magic"
   ]
  },
  {
   "cell_type": "markdown",
   "metadata": {
    "slideshow": {
     "slide_type": "fragment"
    }
   },
   "source": [
    "> Solo in cima all'entusiasmo l'essere umano vede il mondo esattamente\n",
    "(Marina Cvetaeva)"
   ]
  },
  {
   "cell_type": "markdown",
   "metadata": {
    "slideshow": {
     "slide_type": "subslide"
    }
   },
   "source": [
    "*Long term goal* \n",
    "\n",
    "to build:\n",
    "- a set of material posts, videos, book driven by scientists needs\n",
    "- templates to approach most recurring problems\n",
    "- python opensource packages/libraries for notebooks tweaks"
   ]
  },
  {
   "cell_type": "markdown",
   "metadata": {
    "slideshow": {
     "slide_type": "subslide"
    }
   },
   "source": [
    "NOTE: we know are living in difficult times...\n",
    "\n",
    "- Italy dedicated in 2017 3.8% of the GDP to education/research\n",
    "- 3 steps away from the bottom of EU\n",
    "- it was 4.6% in 2009, and has only diminished since then\n",
    "\n",
    "[ref](https://twitter.com/paolodonorio/status/1224379290634145792)"
   ]
  },
  {
   "cell_type": "markdown",
   "metadata": {
    "slideshow": {
     "slide_type": "subslide"
    }
   },
   "source": [
    "> You have to make it happen\n",
    "\n",
    "(Denis Diderot)"
   ]
  },
  {
   "cell_type": "markdown",
   "metadata": {
    "slideshow": {
     "slide_type": "slide"
    }
   },
   "source": [
    "## The environment"
   ]
  },
  {
   "cell_type": "markdown",
   "metadata": {
    "slideshow": {
     "slide_type": "subslide"
    }
   },
   "source": [
    "### infrastructure: containers"
   ]
  },
  {
   "cell_type": "markdown",
   "metadata": {
    "slideshow": {
     "slide_type": "fragment"
    }
   },
   "source": [
    "- docker images, volumes, networks, containers, stacks\n",
    "- kubernetes\n",
    "- that's how the cloud works nowadays\n",
    "- serverless over the horizon"
   ]
  },
  {
   "cell_type": "markdown",
   "metadata": {
    "slideshow": {
     "slide_type": "subslide"
    }
   },
   "source": [
    "### development: notebooks"
   ]
  },
  {
   "cell_type": "markdown",
   "metadata": {
    "slideshow": {
     "slide_type": "subslide"
    }
   },
   "source": [
    "#### advantages\n",
    "\n",
    "+ server that runs code in a remote machine (via browser)\n",
    "+ multi user by default\n",
    "+ file explorer, editor and terminal via web in the same platform\n",
    "+ similar to a web IDE but much more powerful\n",
    "+ easy access to docs\n",
    "+ extensible"
   ]
  },
  {
   "cell_type": "markdown",
   "metadata": {
    "slideshow": {
     "slide_type": "subslide"
    }
   },
   "source": [
    "#### pain points\n",
    "\n",
    "To understand the pain points, we conducted a mixed-methods study that involved \n",
    "\n",
    "(a) observing 5 data scientists as they worked with notebooks, (b) interviewing 15 data scientists, and (c) surveying 156 data scientists. \n",
    "\n",
    "[ref](http://web.eecs.utk.edu/~azh/blog/notebookpainpoints.html)"
   ]
  },
  {
   "cell_type": "markdown",
   "metadata": {},
   "source": [
    "\n",
    "- setup/startup of the kernel\n",
    "- manage code (like a real editor / IDE)\n",
    "- reliability (consistent state)\n",
    "- archival (version control system)\n",
    "- sharing (installations or report or presentations)\n",
    "- reproduce and reuse\n",
    "- encourage \"quick and dirty\" code "
   ]
  },
  {
   "cell_type": "markdown",
   "metadata": {
    "slideshow": {
     "slide_type": "subslide"
    }
   },
   "source": [
    "#### data packages\n",
    "\n",
    "`pydata`: numpy, pandas (dataframes), scipy, matplotlib, seaborn, scikit, etc. (see anaconda)"
   ]
  },
  {
   "cell_type": "markdown",
   "metadata": {
    "slideshow": {
     "slide_type": "fragment"
    }
   },
   "source": [
    "pandas 1.0 is out\n",
    "- https://pandas.pydata.org/pandas-docs/stable/whatsnew/v1.0.0.html\n",
    "- https://www.anaconda.com/pandas-1-0-is-here\n",
    "\n",
    "1.0.1 on the way\n",
    "https://twitter.com/jorisvdbossche/status/1223307270416732162"
   ]
  },
  {
   "cell_type": "markdown",
   "metadata": {
    "slideshow": {
     "slide_type": "subslide"
    }
   },
   "source": [
    "You should be helped tweaking the server.\n",
    "\n",
    "The focus *should be* on **your data** and its meaning."
   ]
  },
  {
   "cell_type": "markdown",
   "metadata": {
    "slideshow": {
     "slide_type": "subslide"
    }
   },
   "source": [
    "### beatiful is better than ugly\n",
    "\n",
    "(from `The zen of Python`)"
   ]
  },
  {
   "cell_type": "code",
   "execution_count": 16,
   "metadata": {
    "slideshow": {
     "slide_type": "fragment"
    }
   },
   "outputs": [
    {
     "name": "stdout",
     "output_type": "stream",
     "text": [
      "Step n.1: odd\n",
      "Step n.2: even\n",
      "Step n.3: odd\n",
      "Step n.4: even\n"
     ]
    }
   ],
   "source": [
    "# indentation\n",
    "\n",
    "for i in range(1, 5):\n",
    "    msg = f\"Step n.{i}: \"\n",
    "\n",
    "    if i % 2 == 0:\n",
    "        msg += \"even\"\n",
    "    else:\n",
    "        msg += \"odd\"\n",
    "\n",
    "    print(msg)"
   ]
  },
  {
   "cell_type": "markdown",
   "metadata": {
    "slideshow": {
     "slide_type": "subslide"
    }
   },
   "source": [
    "#### functions\n",
    "\n",
    "write many, small, composable, rich functions"
   ]
  },
  {
   "cell_type": "code",
   "execution_count": 4,
   "metadata": {
    "ExecuteTime": {
     "end_time": "2020-02-04T22:52:46.955634Z",
     "start_time": "2020-02-04T22:52:46.947988Z"
    }
   },
   "outputs": [],
   "source": [
    "def myfunc(arg1, arg2=5):\n",
    "    \"\"\"Simply multiply two arguments.\n",
    "    Python docs are cool, by the way!\"\"\"\n",
    "    return arg1 * arg2"
   ]
  },
  {
   "cell_type": "code",
   "execution_count": 5,
   "metadata": {
    "ExecuteTime": {
     "end_time": "2020-02-04T22:52:48.423239Z",
     "start_time": "2020-02-04T22:52:48.399249Z"
    }
   },
   "outputs": [],
   "source": [
    "myfunc?"
   ]
  },
  {
   "cell_type": "markdown",
   "metadata": {
    "slideshow": {
     "slide_type": "subslide"
    }
   },
   "source": [
    "#### linter"
   ]
  },
  {
   "cell_type": "markdown",
   "metadata": {
    "slideshow": {
     "slide_type": "fragment"
    }
   },
   "source": [
    "e.g. using [black](https://github.com/drillan/jupyter-black) and/or [flake](https://github.com/deppen8/pandas-vet)"
   ]
  },
  {
   "cell_type": "code",
   "execution_count": 1,
   "metadata": {
    "slideshow": {
     "slide_type": "fragment"
    }
   },
   "outputs": [
    {
     "name": "stdout",
     "output_type": "stream",
     "text": [
      " this issomechaos\n"
     ]
    }
   ],
   "source": [
    "print(\n",
    "    \" this \"\n",
    " + \"is\"   + \"some\"\n",
    "\"chaos\")\n",
    "\n",
    "# press Ctrl + B on this cell"
   ]
  },
  {
   "cell_type": "markdown",
   "metadata": {
    "slideshow": {
     "slide_type": "subslide"
    }
   },
   "source": [
    "#### more"
   ]
  },
  {
   "cell_type": "markdown",
   "metadata": {},
   "source": [
    "data validation\n",
    "https://pandera.readthedocs.io/en/stable"
   ]
  },
  {
   "cell_type": "code",
   "execution_count": 3,
   "metadata": {
    "ExecuteTime": {
     "end_time": "2020-02-04T21:51:54.170664Z",
     "start_time": "2020-02-04T21:51:54.150869Z"
    }
   },
   "outputs": [],
   "source": [
    "x = 2"
   ]
  },
  {
   "cell_type": "code",
   "execution_count": null,
   "metadata": {
    "slideshow": {
     "slide_type": "fragment"
    }
   },
   "outputs": [],
   "source": [
    "# define schema\n",
    "schema = DataFrameSchema({\n",
    "    \"column1\": Column(pa.Int, Check(lambda s: s <= 10)),\n",
    "    ...\n",
    "})\n",
    "\n",
    "# validate dataframe\n",
    "validated_df = schema.validate(df)"
   ]
  },
  {
   "cell_type": "markdown",
   "metadata": {
    "slideshow": {
     "slide_type": "subslide"
    }
   },
   "source": [
    "### it's a kind of *magic*"
   ]
  },
  {
   "cell_type": "markdown",
   "metadata": {
    "slideshow": {
     "slide_type": "-"
    }
   },
   "source": [
    "keyboard shortcuts: just press `h`"
   ]
  },
  {
   "cell_type": "code",
   "execution_count": 2,
   "metadata": {},
   "outputs": [],
   "source": [
    "# editor like completion\n",
    "from math import ..."
   ]
  },
  {
   "cell_type": "code",
   "execution_count": 4,
   "metadata": {},
   "outputs": [],
   "source": [
    "# docs\n",
    "%quickref"
   ]
  },
  {
   "cell_type": "markdown",
   "metadata": {
    "slideshow": {
     "slide_type": "subslide"
    }
   },
   "source": [
    "you can write a [custom](http://127.0.0.1:8888/edit/magic.py) magic,\n",
    "just read the [docs](https://ipython.readthedocs.io/en/stable/config/custommagics.html) `^_^`"
   ]
  },
  {
   "cell_type": "code",
   "execution_count": 1,
   "metadata": {
    "ExecuteTime": {
     "end_time": "2020-02-04T22:09:43.536706Z",
     "start_time": "2020-02-04T22:09:43.472403Z"
    },
    "slideshow": {
     "slide_type": "fragment"
    }
   },
   "outputs": [],
   "source": [
    "# load our custom code\n",
    "%load_ext magic"
   ]
  },
  {
   "cell_type": "code",
   "execution_count": 2,
   "metadata": {
    "ExecuteTime": {
     "end_time": "2020-02-04T22:09:44.377498Z",
     "start_time": "2020-02-04T22:09:44.369225Z"
    },
    "slideshow": {
     "slide_type": "subslide"
    }
   },
   "outputs": [],
   "source": [
    "# use it\n",
    "%my_magic test"
   ]
  },
  {
   "cell_type": "code",
   "execution_count": 4,
   "metadata": {
    "ExecuteTime": {
     "end_time": "2020-02-04T22:09:47.354958Z",
     "start_time": "2020-02-04T22:09:47.342519Z"
    },
    "slideshow": {
     "slide_type": "fragment"
    }
   },
   "outputs": [
    {
     "name": "stdout",
     "output_type": "stream",
     "text": [
      "Hey, this is a number!\n"
     ]
    },
    {
     "data": {
      "text/plain": [
       "10.75"
      ]
     },
     "execution_count": 4,
     "metadata": {},
     "output_type": "execute_result"
    }
   ],
   "source": [
    "%my_magic 4.3"
   ]
  },
  {
   "cell_type": "markdown",
   "metadata": {
    "slideshow": {
     "slide_type": "subslide"
    }
   },
   "source": [
    "An interesting example of custom magic is: [watermarks](https://github.com/rasbt/watermark)"
   ]
  },
  {
   "cell_type": "code",
   "execution_count": 5,
   "metadata": {
    "ExecuteTime": {
     "end_time": "2020-02-04T22:19:25.584334Z",
     "start_time": "2020-02-04T22:19:25.333368Z"
    }
   },
   "outputs": [],
   "source": [
    "%load_ext watermark"
   ]
  },
  {
   "cell_type": "code",
   "execution_count": 9,
   "metadata": {
    "ExecuteTime": {
     "end_time": "2020-02-04T22:21:02.302469Z",
     "start_time": "2020-02-04T22:21:01.964195Z"
    },
    "slideshow": {
     "slide_type": "subslide"
    }
   },
   "outputs": [
    {
     "name": "stdout",
     "output_type": "stream",
     "text": [
      "last updated: Tue Feb 04 2020 22:21:01 UTC \n",
      "\n",
      "CPython 3.8.1\n",
      "IPython 7.12.0\n",
      "\n",
      "numpy 1.18.1\n",
      "pandas 1.0.0\n",
      "\n",
      "compiler   : GCC 8.3.0\n",
      "system     : Linux\n",
      "release    : 4.19.76-linuxkit\n",
      "machine    : x86_64\n",
      "processor  : \n",
      "CPU cores  : 2\n",
      "interpreter: 64bit\n"
     ]
    }
   ],
   "source": [
    "%watermark -u -n -t -z -v -m -p numpy,pandas"
   ]
  },
  {
   "cell_type": "markdown",
   "metadata": {
    "slideshow": {
     "slide_type": "subslide"
    }
   },
   "source": [
    "### plugins"
   ]
  },
  {
   "cell_type": "markdown",
   "metadata": {
    "slideshow": {
     "slide_type": "subslide"
    }
   },
   "source": [
    "there is a good amount of \"unofficial\" extensions you can use:\n",
    "\n",
    "[docs](\n",
    "https://jupyter-contrib-nbextensions.readthedocs.io/en/latest/nbextensions.html#list-of-provided-nbextensions)\n"
   ]
  },
  {
   "cell_type": "markdown",
   "metadata": {
    "slideshow": {
     "slide_type": "fragment"
    }
   },
   "source": [
    "See [this page](http://localhost:8888/nbextensions) for current configuration"
   ]
  },
  {
   "cell_type": "markdown",
   "metadata": {
    "slideshow": {
     "slide_type": "fragment"
    }
   },
   "source": [
    "Example: table of contents"
   ]
  },
  {
   "cell_type": "markdown",
   "metadata": {
    "slideshow": {
     "slide_type": "subslide"
    }
   },
   "source": [
    "### version control"
   ]
  },
  {
   "cell_type": "markdown",
   "metadata": {
    "slideshow": {
     "slide_type": "-"
    }
   },
   "source": [
    "Some help with git diff:\n",
    "[nbdime](https://nbdime.readthedocs.io/en/latest/extensions.html)\n",
    "\n",
    "(test the button example inside this notebook)"
   ]
  },
  {
   "cell_type": "markdown",
   "metadata": {
    "slideshow": {
     "slide_type": "-"
    }
   },
   "source": [
    "Or automatically export to python:\n",
    "[code](https://github.com/jupyterhub/jupyterhub/issues/1412#issuecomment-329146161)"
   ]
  },
  {
   "cell_type": "markdown",
   "metadata": {
    "slideshow": {
     "slide_type": "subslide"
    }
   },
   "source": [
    "### sessions"
   ]
  },
  {
   "cell_type": "markdown",
   "metadata": {},
   "source": [
    "Export & import, e.g. [dill](https://dill.readthedocs.io/)"
   ]
  },
  {
   "cell_type": "code",
   "execution_count": null,
   "metadata": {
    "slideshow": {
     "slide_type": "fragment"
    }
   },
   "outputs": [],
   "source": [
    "import dill                            \n",
    "filepath = 'session.pkl'\n",
    "\n",
    "dill.dump_session(filepath) # Save the session\n",
    "dill.load_session(filepath) # Load the session\n",
    "\n",
    "# we can write a function or a custom magic with this :)"
   ]
  },
  {
   "cell_type": "code",
   "execution_count": 1,
   "metadata": {
    "ExecuteTime": {
     "end_time": "2020-02-04T22:49:44.043395Z",
     "start_time": "2020-02-04T22:49:44.033918Z"
    },
    "slideshow": {
     "slide_type": "subslide"
    }
   },
   "outputs": [],
   "source": [
    "# or checkout store and save magic commands\n",
    "%store?"
   ]
  },
  {
   "cell_type": "markdown",
   "metadata": {
    "slideshow": {
     "slide_type": "slide"
    }
   },
   "source": [
    "## Simple is better than complicated\n",
    "\n",
    "but complicated is better than complex"
   ]
  },
  {
   "cell_type": "markdown",
   "metadata": {
    "slideshow": {
     "slide_type": "subslide"
    }
   },
   "source": [
    "### writing a paper..."
   ]
  },
  {
   "cell_type": "markdown",
   "metadata": {},
   "source": [
    "- latex extension / conversion\n",
    "- plots\n",
    "- github support to read only viewer\n",
    "- nbviewer free support to public git files with slides"
   ]
  },
  {
   "cell_type": "markdown",
   "metadata": {
    "slideshow": {
     "slide_type": "subslide"
    }
   },
   "source": [
    "### ...that turns into slides"
   ]
  },
  {
   "cell_type": "markdown",
   "metadata": {},
   "source": [
    "your paper cells, plots, commentary and code\n",
    "\n",
    "can be easily converted into a **slideshow**\n",
    "\n",
    "(thanks to [RISE plugin](https://rise.readthedocs.io))"
   ]
  },
  {
   "cell_type": "markdown",
   "metadata": {
    "slideshow": {
     "slide_type": "subslide"
    }
   },
   "source": [
    "### pythonic workflows/pipeline\n",
    "\n",
    "building a magic command \n",
    "\n",
    "that submits configured jobs to a queue\n",
    "\n",
    "and verify the status"
   ]
  },
  {
   "cell_type": "code",
   "execution_count": null,
   "metadata": {
    "slideshow": {
     "slide_type": "subslide"
    }
   },
   "outputs": [],
   "source": [
    "%%workflow\n",
    "[\n",
    "    # 1 step\n",
    "    {\n",
    "        \"algorithm\": \"alignment\",\n",
    "        \"toolkit\": \"samtools\",  # has default\n",
    "        \"version\": \"1.2\",  # has default\n",
    "        \"input\": \"/path/to/data/folder/input.format\",  # goes through validation\n",
    "        \"command\": \"helloworld\"\n",
    "    },\n",
    "    # 2 step\n",
    "    {\n",
    "        \"algorithm\": \"peakfider\"\n",
    "        # input is automatically precedent step output\n",
    "        # which gets validated\n",
    "    },\n",
    "    # 3 step\n",
    "    {\n",
    "        \"algorithm\": \"compression\"\n",
    "    },\n",
    "\n",
    "]\n",
    "\n",
    "# produces as output the ID of the job in our queue\n",
    "# e.g. '2379e812-5628-492d-ac89-8e02cb284732'"
   ]
  },
  {
   "cell_type": "code",
   "execution_count": null,
   "metadata": {
    "slideshow": {
     "slide_type": "subslide"
    }
   },
   "outputs": [],
   "source": [
    "%%workflow status\n",
    "\"2379e812-5628-492d-ac89-8e02cb284732\"  # <UUID>\n",
    "\n",
    "# either tells you \"failed\", \"running\", \"non existing\" or\n",
    "# {\"status\": \"completed\", \"output\": \"/path/to/data/folder/compression/output.zip\"}"
   ]
  },
  {
   "cell_type": "markdown",
   "metadata": {
    "slideshow": {
     "slide_type": "subslide"
    }
   },
   "source": [
    "### functions as services"
   ]
  },
  {
   "cell_type": "markdown",
   "metadata": {},
   "source": [
    "take a function\n",
    "\n",
    "build an API\n",
    "\n",
    "have an internal helper to use it"
   ]
  },
  {
   "cell_type": "markdown",
   "metadata": {
    "slideshow": {
     "slide_type": "slide"
    }
   },
   "source": [
    "## Roadmap"
   ]
  },
  {
   "cell_type": "markdown",
   "metadata": {
    "slideshow": {
     "slide_type": "subslide"
    }
   },
   "source": [
    "- blog: base tutorials for setup\n",
    "- hands dirty: pair programming with data scientists in labs\n",
    "- premiumum newsletter: templates of working solutions, continous update to tools and tips\n",
    "- online video course: from zero to (data science) hero\n",
    "- publish a book"
   ]
  },
  {
   "cell_type": "markdown",
   "metadata": {
    "slideshow": {
     "slide_type": "subslide"
    }
   },
   "source": [
    "### blog"
   ]
  },
  {
   "cell_type": "markdown",
   "metadata": {
    "slideshow": {
     "slide_type": "subslide"
    }
   },
   "source": [
    "There's a free version that goes out once a week and paid subscribers get access to one more newsletter per week, \n",
    "\n",
    "it's more about the idea of supporting in-depth writing about tech"
   ]
  },
  {
   "cell_type": "markdown",
   "metadata": {
    "slideshow": {
     "slide_type": "subslide"
    }
   },
   "source": [
    "### pair programming"
   ]
  },
  {
   "cell_type": "markdown",
   "metadata": {
    "slideshow": {
     "slide_type": "subslide"
    }
   },
   "source": [
    "bla bla bla"
   ]
  },
  {
   "cell_type": "markdown",
   "metadata": {
    "slideshow": {
     "slide_type": "slide"
    }
   },
   "source": [
    "### tech crafter\n",
    "\n",
    "> keeping up-to-date"
   ]
  },
  {
   "cell_type": "markdown",
   "metadata": {
    "slideshow": {
     "slide_type": "subslide"
    }
   },
   "source": [
    "> A un bambino si insegna a dichiarare la professione, il risultato finale, non il percorso.\n",
    "Nessuno di loro dice: da grande voglio fare l'apprendista. Eppure è quello che si è continuamente.\n",
    "\n",
    "Erri De Luca"
   ]
  },
  {
   "cell_type": "markdown",
   "metadata": {
    "slideshow": {
     "slide_type": "subslide"
    }
   },
   "source": [
    "#### The five-hour rule\n",
    "\n",
    "No matter how busy successful people are, \n",
    "\n",
    "they always spend at least an hour a day (thus five hours a week) \n",
    "\n",
    "learning or practicing. \n",
    "\n",
    "And they do this across their entire career.\n",
    "\n",
    "\n",
    "[ref](https://deepstash.com/idea/20126/the-five-hour-rule)"
   ]
  },
  {
   "cell_type": "markdown",
   "metadata": {
    "slideshow": {
     "slide_type": "slide"
    }
   },
   "source": [
    "## THE END"
   ]
  },
  {
   "cell_type": "markdown",
   "metadata": {
    "slideshow": {
     "slide_type": "-"
    }
   },
   "source": [
    "p.s. Don't forget to follow the new datanote blog, via [RSS](https://datanote.me/rss/).\n",
    "\n",
    "(and if you don't have an RSS tool, it's time to [use a cool free one](https://feedly.com/))"
   ]
  },
  {
   "cell_type": "markdown",
   "metadata": {
    "slideshow": {
     "slide_type": "skip"
    }
   },
   "source": [
    "---"
   ]
  }
 ],
 "metadata": {
  "celltoolbar": "Slideshow",
  "kernelspec": {
   "display_name": "Python 3",
   "language": "python",
   "name": "python3"
  },
  "language_info": {
   "codemirror_mode": {
    "name": "ipython",
    "version": 3
   },
   "file_extension": ".py",
   "mimetype": "text/x-python",
   "name": "python",
   "nbconvert_exporter": "python",
   "pygments_lexer": "ipython3",
   "version": "3.8.1"
  },
  "toc": {
   "base_numbering": 1,
   "nav_menu": {},
   "number_sections": false,
   "sideBar": true,
   "skip_h1_title": false,
   "title_cell": "Table of Contents",
   "title_sidebar": "Contents",
   "toc_cell": true,
   "toc_position": {
    "height": "calc(100% - 180px)",
    "left": "10px",
    "top": "150px",
    "width": "266.594px"
   },
   "toc_section_display": false,
   "toc_window_display": false
  },
  "varInspector": {
   "cols": {
    "lenName": 16,
    "lenType": 16,
    "lenVar": 40
   },
   "kernels_config": {
    "python": {
     "delete_cmd_postfix": "",
     "delete_cmd_prefix": "del ",
     "library": "var_list.py",
     "varRefreshCmd": "print(var_dic_list())"
    },
    "r": {
     "delete_cmd_postfix": ") ",
     "delete_cmd_prefix": "rm(",
     "library": "var_list.r",
     "varRefreshCmd": "cat(var_dic_list()) "
    }
   },
   "types_to_exclude": [
    "module",
    "function",
    "builtin_function_or_method",
    "instance",
    "_Feature"
   ],
   "window_display": false
  }
 },
 "nbformat": 4,
 "nbformat_minor": 4
}
