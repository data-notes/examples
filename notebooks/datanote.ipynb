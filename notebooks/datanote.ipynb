{
 "cells": [
  {
   "cell_type": "markdown",
   "metadata": {
    "slideshow": {
     "slide_type": "skip"
    },
    "toc": true
   },
   "source": [
    "<h1>Table of Contents<span class=\"tocSkip\"></span></h1>\n",
    "<div class=\"toc\"><ul class=\"toc-item\"><li><span><a href=\"#DATANOTE\" data-toc-modified-id=\"DATANOTE-1\">DATANOTE</a></span><ul class=\"toc-item\"><li><span><a href=\"#Motivation\" data-toc-modified-id=\"Motivation-1.1\">Motivation</a></span><ul class=\"toc-item\"><li><span><a href=\"#I’m-Paolo\" data-toc-modified-id=\"I’m-Paolo-1.1.1\">I’m Paolo</a></span></li><li><span><a href=\"#Proof\" data-toc-modified-id=\"Proof-1.1.2\">Proof</a></span></li><li><span><a href=\"#A-new-mission\" data-toc-modified-id=\"A-new-mission-1.1.3\">A new mission</a></span></li><li><span><a href=\"#follow-the-blog\" data-toc-modified-id=\"follow-the-blog-1.1.4\">follow the blog</a></span></li></ul></li><li><span><a href=\"#Passion\" data-toc-modified-id=\"Passion-1.2\">Passion</a></span></li></ul></li><li><span><a href=\"#environment\" data-toc-modified-id=\"environment-2\">environment</a></span><ul class=\"toc-item\"><li><span><a href=\"#the-base:-notebooks\" data-toc-modified-id=\"the-base:-notebooks-2.1\">the base: notebooks</a></span><ul class=\"toc-item\"><li><span><a href=\"#advantages\" data-toc-modified-id=\"advantages-2.1.1\">advantages</a></span></li><li><span><a href=\"#pain-points\" data-toc-modified-id=\"pain-points-2.1.2\">pain points</a></span></li><li><span><a href=\"#beatiful-is-better-than-ugly\" data-toc-modified-id=\"beatiful-is-better-than-ugly-2.1.3\">beatiful is better than ugly</a></span><ul class=\"toc-item\"><li><span><a href=\"#code-beautify\" data-toc-modified-id=\"code-beautify-2.1.3.1\">code beautify</a></span></li><li><span><a href=\"#more\" data-toc-modified-id=\"more-2.1.3.2\">more</a></span></li></ul></li></ul></li><li><span><a href=\"#the-magic\" data-toc-modified-id=\"the-magic-2.2\">the magic</a></span></li><li><span><a href=\"#plugins\" data-toc-modified-id=\"plugins-2.3\">plugins</a></span></li><li><span><a href=\"#version-control\" data-toc-modified-id=\"version-control-2.4\">version control</a></span></li><li><span><a href=\"#sessions\" data-toc-modified-id=\"sessions-2.5\">sessions</a></span></li><li><span><a href=\"#writing-a-paper\" data-toc-modified-id=\"writing-a-paper-2.6\">writing a paper</a></span></li><li><span><a href=\"#more-pythonic-workflows\" data-toc-modified-id=\"more-pythonic-workflows-2.7\">more pythonic workflows</a></span></li><li><span><a href=\"#functions-as-services\" data-toc-modified-id=\"functions-as-services-2.8\">functions as services</a></span></li></ul></li><li><span><a href=\"#what's-next\" data-toc-modified-id=\"what's-next-3\">what's next</a></span><ul class=\"toc-item\"><li><span><a href=\"#roadmap\" data-toc-modified-id=\"roadmap-3.1\">roadmap</a></span></li><li><span><a href=\"#pair-programming\" data-toc-modified-id=\"pair-programming-3.2\">pair programming</a></span></li><li><span><a href=\"#tech-crafter\" data-toc-modified-id=\"tech-crafter-3.3\">tech crafter</a></span><ul class=\"toc-item\"><li><span><a href=\"#The-five-hour-rule\" data-toc-modified-id=\"The-five-hour-rule-3.3.1\">The five-hour rule</a></span></li></ul></li></ul></li><li><span><a href=\"#the-end\" data-toc-modified-id=\"the-end-4\">the end</a></span></li></ul></div>"
   ]
  },
  {
   "cell_type": "markdown",
   "metadata": {
    "slideshow": {
     "slide_type": "slide"
    }
   },
   "source": [
    "# DATANOTE"
   ]
  },
  {
   "cell_type": "markdown",
   "metadata": {
    "slideshow": {
     "slide_type": "fragment"
    }
   },
   "source": [
    "A virtual place \n",
    "\n",
    "where `modern data-driven scientists` \n",
    "\n",
    "unfold the <b>magic</b> of coding"
   ]
  },
  {
   "cell_type": "markdown",
   "metadata": {
    "slideshow": {
     "slide_type": "fragment"
    }
   },
   "source": [
    "\n",
    "https://datanote.me\n",
    "\n",
    "<small>\n",
    "    Paolo D’Onorio De Meo \n",
    "    (paolo@datanote.me)\n",
    "</small>"
   ]
  },
  {
   "cell_type": "markdown",
   "metadata": {
    "slideshow": {
     "slide_type": "slide"
    }
   },
   "source": [
    "## Motivation\n",
    "\n",
    "e.g. my story"
   ]
  },
  {
   "cell_type": "markdown",
   "metadata": {
    "slideshow": {
     "slide_type": "subslide"
    }
   },
   "source": [
    "### I’m Paolo"
   ]
  },
  {
   "cell_type": "markdown",
   "metadata": {
    "slideshow": {
     "slide_type": "fragment"
    }
   },
   "source": [
    "+ Web app and infrastructure developer for data analysis"
   ]
  },
  {
   "cell_type": "markdown",
   "metadata": {
    "slideshow": {
     "slide_type": "fragment"
    }
   },
   "source": [
    "+ Really passionate about things I do!\n",
    "\n",
    "I've left my regular job to work in a startup, \n",
    "on a mission for a better internet for all\n"
   ]
  },
  {
   "cell_type": "markdown",
   "metadata": {
    "slideshow": {
     "slide_type": "subslide"
    }
   },
   "source": [
    "+ Senior developer \n",
    "    - 20+ years of experience\n",
    "\n",
    "+ Pipelines design, automatization and \n",
    "    - 10+ y experience: supporting data analysis \n",
    "    - High performance and High throughput context\n",
    "\n",
    "+ Management\n",
    "    - team leader\n",
    "    - technical coordinator\n",
    "    - supervisor\n",
    "    - product manager\n",
    "+ Speaker and traveler across Europe and USA"
   ]
  },
  {
   "cell_type": "markdown",
   "metadata": {
    "slideshow": {
     "slide_type": "subslide"
    }
   },
   "source": [
    "+ Love to teach \n",
    "    + Python and notebooks above all"
   ]
  },
  {
   "cell_type": "markdown",
   "metadata": {
    "slideshow": {
     "slide_type": "fragment"
    }
   },
   "source": [
    "+ Love even more [to make people understand from zero](https://twitter.com/paolodonorio/status/1224648947748278272)\n",
    "    + scientists with no programming background at all\n",
    "    + or that have random coding experience (e.g. from copy/paste)"
   ]
  },
  {
   "cell_type": "markdown",
   "metadata": {
    "slideshow": {
     "slide_type": "subslide"
    }
   },
   "source": [
    "### Proof\n",
    "\n",
    "CTO"
   ]
  },
  {
   "cell_type": "markdown",
   "metadata": {
    "slideshow": {
     "slide_type": "subslide"
    }
   },
   "source": [
    "- the wisdom of the crowd\n",
    "- educate on the use of the web, sources, trust\n",
    "- push journalism as it should be"
   ]
  },
  {
   "cell_type": "markdown",
   "metadata": {
    "slideshow": {
     "slide_type": "subslide"
    }
   },
   "source": [
    "\n",
    "> the truth is what we lean for\n",
    "\n",
    "[Weinstein and #MeToo](https://www.huffpost.com/entry/megan-twohey-she-said-harvey-weinstein_n_5e332566c5b611ac94d18d6d)"
   ]
  },
  {
   "cell_type": "markdown",
   "metadata": {
    "slideshow": {
     "slide_type": "subslide"
    }
   },
   "source": [
    "### A new mission"
   ]
  },
  {
   "cell_type": "markdown",
   "metadata": {
    "slideshow": {
     "slide_type": "fragment"
    }
   },
   "source": [
    "How to make better and faster science"
   ]
  },
  {
   "cell_type": "markdown",
   "metadata": {
    "slideshow": {
     "slide_type": "subslide"
    }
   },
   "source": [
    "### follow the blog\n",
    "\n",
    "[for more](https://datanote.me/the-beginning-is-the-end/abs)"
   ]
  },
  {
   "cell_type": "markdown",
   "metadata": {
    "slideshow": {
     "slide_type": "slide"
    }
   },
   "source": [
    "## Passion\n",
    "\n",
    "rediscover the magic"
   ]
  },
  {
   "cell_type": "markdown",
   "metadata": {
    "slideshow": {
     "slide_type": "subslide"
    }
   },
   "source": [
    "> Solo in cima all'entusiasmo l'essere umano vede il mondo esattamente\n",
    "\n",
    "Marina Cvetaeva"
   ]
  },
  {
   "cell_type": "markdown",
   "metadata": {
    "slideshow": {
     "slide_type": "subslide"
    }
   },
   "source": [
    "Supporting and teaching data scientists\n",
    "through Python and Notebooks\n",
    "for their data analysis and workflows"
   ]
  },
  {
   "cell_type": "markdown",
   "metadata": {
    "slideshow": {
     "slide_type": "subslide"
    }
   },
   "source": [
    "> Italy dedicated in 2017 3.8% of the GDP to education/research, \n",
    "> 3 steps away from the bottom of EU.\n",
    "\n",
    "> It was 4.6% in 2009, and has only diminished since then.\n",
    "\n",
    "[ref](https://twitter.com/paolodonorio/status/1224379290634145792)"
   ]
  },
  {
   "cell_type": "markdown",
   "metadata": {
    "slideshow": {
     "slide_type": "subslide"
    }
   },
   "source": [
    "> You have to make it happen\n",
    "\n",
    "Denis Diderot"
   ]
  },
  {
   "cell_type": "markdown",
   "metadata": {
    "slideshow": {
     "slide_type": "slide"
    }
   },
   "source": [
    "# environment"
   ]
  },
  {
   "cell_type": "markdown",
   "metadata": {
    "slideshow": {
     "slide_type": "slide"
    }
   },
   "source": [
    "## the base: notebooks"
   ]
  },
  {
   "cell_type": "markdown",
   "metadata": {
    "slideshow": {
     "slide_type": "subslide"
    }
   },
   "source": [
    "### advantages\n",
    "\n",
    "+ server that runs code in a remote machine (via browser)\n",
    "+ multi user by default\n",
    "+ file explorer, editor and terminal via web in the same platform\n",
    "+ easy access to docs\n",
    "+ extensible"
   ]
  },
  {
   "cell_type": "markdown",
   "metadata": {
    "slideshow": {
     "slide_type": "subslide"
    }
   },
   "source": [
    "### pain points\n",
    "\n",
    "[ref](http://web.eecs.utk.edu/~azh/blog/notebookpainpoints.html)"
   ]
  },
  {
   "cell_type": "markdown",
   "metadata": {},
   "source": [
    "the focus is on the data and its meaning"
   ]
  },
  {
   "cell_type": "markdown",
   "metadata": {
    "slideshow": {
     "slide_type": "slide"
    }
   },
   "source": [
    "### beatiful is better than ugly\n",
    "\n",
    "(from `The zen of Python`)"
   ]
  },
  {
   "cell_type": "markdown",
   "metadata": {
    "slideshow": {
     "slide_type": "fragment"
    }
   },
   "source": [
    "indentation"
   ]
  },
  {
   "cell_type": "markdown",
   "metadata": {
    "slideshow": {
     "slide_type": "subslide"
    }
   },
   "source": [
    "#### code beautify"
   ]
  },
  {
   "cell_type": "markdown",
   "metadata": {},
   "source": [
    "black"
   ]
  },
  {
   "cell_type": "markdown",
   "metadata": {},
   "source": [
    "flake\n",
    "https://github.com/deppen8/pandas-vet"
   ]
  },
  {
   "cell_type": "markdown",
   "metadata": {
    "slideshow": {
     "slide_type": "subslide"
    }
   },
   "source": [
    "#### more"
   ]
  },
  {
   "cell_type": "markdown",
   "metadata": {},
   "source": [
    "data validation\n",
    "https://pandera.readthedocs.io/en/stable"
   ]
  },
  {
   "cell_type": "markdown",
   "metadata": {
    "slideshow": {
     "slide_type": "slide"
    }
   },
   "source": [
    "## the magic"
   ]
  },
  {
   "cell_type": "markdown",
   "metadata": {
    "slideshow": {
     "slide_type": "subslide"
    }
   },
   "source": [
    "shortcuts"
   ]
  },
  {
   "cell_type": "code",
   "execution_count": 4,
   "metadata": {},
   "outputs": [],
   "source": [
    "%quickref"
   ]
  },
  {
   "cell_type": "markdown",
   "metadata": {},
   "source": [
    "https://github.com/pdonorio/ipymagics"
   ]
  },
  {
   "cell_type": "markdown",
   "metadata": {
    "slideshow": {
     "slide_type": "slide"
    }
   },
   "source": [
    "## plugins"
   ]
  },
  {
   "cell_type": "markdown",
   "metadata": {},
   "source": [
    "[example](http://localhost:8888/nbextensions)"
   ]
  },
  {
   "cell_type": "markdown",
   "metadata": {
    "slideshow": {
     "slide_type": "subslide"
    }
   },
   "source": [
    "extensions\n",
    "\n",
    "https://medium.com/@maxtingle/10-jupyter-notebook-extensions-making-my-lyfe-easier-f40139a334ce\n",
    "\n",
    "https://jupyter-contrib-nbextensions.readthedocs.io/en/latest/nbextensions.html#list-of-provided-nbextensions"
   ]
  },
  {
   "cell_type": "markdown",
   "metadata": {},
   "source": [
    "freeze"
   ]
  },
  {
   "cell_type": "markdown",
   "metadata": {
    "slideshow": {
     "slide_type": "slide"
    }
   },
   "source": [
    "## version control"
   ]
  },
  {
   "cell_type": "markdown",
   "metadata": {
    "slideshow": {
     "slide_type": "subslide"
    }
   },
   "source": [
    "git diff\n",
    "\n",
    "nbdime\n",
    "https://www.slideshare.net/AlessiaMarcolini/version-control-for-data-science\n",
    "https://nbdime.readthedocs.io/en/latest/extensions.html\n",
    "    \n",
    "automatically export to python\n",
    "https://github.com/jupyterhub/jupyterhub/issues/1412#issuecomment-329146161\n"
   ]
  },
  {
   "cell_type": "markdown",
   "metadata": {
    "slideshow": {
     "slide_type": "slide"
    }
   },
   "source": [
    "## sessions"
   ]
  },
  {
   "cell_type": "markdown",
   "metadata": {},
   "source": [
    "export / import"
   ]
  },
  {
   "cell_type": "markdown",
   "metadata": {
    "slideshow": {
     "slide_type": "slide"
    }
   },
   "source": [
    "## writing a paper"
   ]
  },
  {
   "cell_type": "markdown",
   "metadata": {},
   "source": [
    "- latex extension / conversion\n",
    "- plots\n",
    "- github support to read only viewer\n",
    "- nbviewer free support to public git files with slides"
   ]
  },
  {
   "cell_type": "markdown",
   "metadata": {
    "slideshow": {
     "slide_type": "slide"
    }
   },
   "source": [
    "## more pythonic workflows"
   ]
  },
  {
   "cell_type": "code",
   "execution_count": null,
   "metadata": {
    "slideshow": {
     "slide_type": "subslide"
    }
   },
   "outputs": [],
   "source": [
    "%%workflow\n",
    "[\n",
    "    # 1 step\n",
    "    {\n",
    "        \"algorithm\": \"alignment\",\n",
    "        \"toolkit\": \"samtools\",  # has default\n",
    "        \"version\": \"1.2\",  # has default\n",
    "        \"input\": \"/path/to/data/folder/input.format\",  # goes through validation\n",
    "        \"command\": \"helloworld\"\n",
    "    },\n",
    "    # 2 step\n",
    "    {\n",
    "        \"algorithm\": \"peakfider\"\n",
    "        # input is automatically precedent step output\n",
    "        # which gets validated\n",
    "    },\n",
    "    # 3 step\n",
    "    {\n",
    "        \"algorithm\": \"compression\"\n",
    "    },\n",
    "\n",
    "]\n",
    "\n",
    "# produces as output the ID of the job in our queue\n",
    "# e.g. '2379e812-5628-492d-ac89-8e02cb284732'"
   ]
  },
  {
   "cell_type": "code",
   "execution_count": null,
   "metadata": {
    "slideshow": {
     "slide_type": "subslide"
    }
   },
   "outputs": [],
   "source": [
    "%%workflow status\n",
    "\"2379e812-5628-492d-ac89-8e02cb284732\"  # <UUID>\n",
    "\n",
    "# either tells you \"failed\", \"running\", \"non existing\" or\n",
    "# {\"status\": \"completed\", \"output\": \"/path/to/data/folder/compression/output.zip\"}"
   ]
  },
  {
   "cell_type": "markdown",
   "metadata": {
    "slideshow": {
     "slide_type": "slide"
    }
   },
   "source": [
    "## functions as services"
   ]
  },
  {
   "cell_type": "markdown",
   "metadata": {},
   "source": [
    "take a function\n",
    "\n",
    "build an API\n",
    "\n",
    "have an internal helper to use it"
   ]
  },
  {
   "cell_type": "markdown",
   "metadata": {
    "slideshow": {
     "slide_type": "slide"
    }
   },
   "source": [
    "# what's next"
   ]
  },
  {
   "cell_type": "markdown",
   "metadata": {
    "slideshow": {
     "slide_type": "slide"
    }
   },
   "source": [
    "## roadmap"
   ]
  },
  {
   "cell_type": "markdown",
   "metadata": {
    "slideshow": {
     "slide_type": "subslide"
    }
   },
   "source": [
    "There's a free version that goes out once a week and paid subscribers get access to one more newsletter per week, \n",
    "\n",
    "it's more about the idea of supporting in-depth writing about tech"
   ]
  },
  {
   "cell_type": "markdown",
   "metadata": {
    "slideshow": {
     "slide_type": "subslide"
    }
   },
   "source": [
    "- blog: base tutorials for setup\n",
    "- hands dirty: pair programming with data scientists in labs\n",
    "- premiumum newsletter: templates of working solutions, continous update to tools and tips\n",
    "- online video course: from zero to (data science) hero\n",
    "- publish a book"
   ]
  },
  {
   "cell_type": "markdown",
   "metadata": {
    "slideshow": {
     "slide_type": "slide"
    }
   },
   "source": [
    "## pair programming"
   ]
  },
  {
   "cell_type": "markdown",
   "metadata": {
    "slideshow": {
     "slide_type": "subslide"
    }
   },
   "source": [
    "bla bla bla"
   ]
  },
  {
   "cell_type": "markdown",
   "metadata": {
    "slideshow": {
     "slide_type": "slide"
    }
   },
   "source": [
    "## tech crafter\n",
    "\n",
    "> keeping up-to-date"
   ]
  },
  {
   "cell_type": "markdown",
   "metadata": {
    "slideshow": {
     "slide_type": "subslide"
    }
   },
   "source": [
    "> A un bambino si insegna a dichiarare la professione, il risultato finale, non il percorso.\n",
    "Nessuno di loro dice: da grande voglio fare l'apprendista. Eppure è quello che si è continuamente.\n",
    "\n",
    "Erri De Luca"
   ]
  },
  {
   "cell_type": "markdown",
   "metadata": {
    "slideshow": {
     "slide_type": "subslide"
    }
   },
   "source": [
    "### The five-hour rule\n",
    "\n",
    "No matter how busy successful people are, \n",
    "\n",
    "they always spend at least an hour a day (thus five hours a week) \n",
    "\n",
    "learning or practicing. \n",
    "\n",
    "And they do this across their entire career.\n",
    "\n",
    "\n",
    "[ref](https://deepstash.com/idea/20126/the-five-hour-rule)"
   ]
  },
  {
   "cell_type": "markdown",
   "metadata": {
    "slideshow": {
     "slide_type": "slide"
    }
   },
   "source": [
    "# the end"
   ]
  }
 ],
 "metadata": {
  "celltoolbar": "Slideshow",
  "kernelspec": {
   "display_name": "Python 3",
   "language": "python",
   "name": "python3"
  },
  "language_info": {
   "codemirror_mode": {
    "name": "ipython",
    "version": 3
   },
   "file_extension": ".py",
   "mimetype": "text/x-python",
   "name": "python",
   "nbconvert_exporter": "python",
   "pygments_lexer": "ipython3",
   "version": "3.8.1"
  },
  "toc": {
   "base_numbering": 1,
   "nav_menu": {},
   "number_sections": false,
   "sideBar": true,
   "skip_h1_title": false,
   "title_cell": "Table of Contents",
   "title_sidebar": "Contents",
   "toc_cell": true,
   "toc_position": {
    "height": "calc(100% - 180px)",
    "left": "10px",
    "top": "150px",
    "width": "266.594px"
   },
   "toc_section_display": false,
   "toc_window_display": false
  }
 },
 "nbformat": 4,
 "nbformat_minor": 4
}
