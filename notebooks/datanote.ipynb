{
 "cells": [
  {
   "cell_type": "markdown",
   "metadata": {
    "slideshow": {
     "slide_type": "skip"
    },
    "toc": true
   },
   "source": [
    "<h1>Table of Contents<span class=\"tocSkip\"></span></h1>\n",
    "<div class=\"toc\"><ul class=\"toc-item\"><li><span><a href=\"#DATANOTE\" data-toc-modified-id=\"DATANOTE-1\">DATANOTE</a></span><ul class=\"toc-item\"><li><span><a href=\"#Motivation\" data-toc-modified-id=\"Motivation-1.1\">Motivation</a></span><ul class=\"toc-item\"><li><span><a href=\"#I’m-Paolo\" data-toc-modified-id=\"I’m-Paolo-1.1.1\">I’m Paolo</a></span></li><li><span><a href=\"#Proof\" data-toc-modified-id=\"Proof-1.1.2\">Proof</a></span></li><li><span><a href=\"#A-new-mission\" data-toc-modified-id=\"A-new-mission-1.1.3\">A new mission</a></span><ul class=\"toc-item\"><li><span><a href=\"#Fuel-the-passion\" data-toc-modified-id=\"Fuel-the-passion-1.1.3.1\">Fuel the passion</a></span></li></ul></li></ul></li><li><span><a href=\"#The-environment\" data-toc-modified-id=\"The-environment-1.2\">The environment</a></span><ul class=\"toc-item\"><li><span><a href=\"#infrastructure:-containers\" data-toc-modified-id=\"infrastructure:-containers-1.2.1\">infrastructure: containers</a></span></li><li><span><a href=\"#development:-notebooks\" data-toc-modified-id=\"development:-notebooks-1.2.2\">development: notebooks</a></span><ul class=\"toc-item\"><li><span><a href=\"#advantages\" data-toc-modified-id=\"advantages-1.2.2.1\">advantages</a></span></li><li><span><a href=\"#pain-points\" data-toc-modified-id=\"pain-points-1.2.2.2\">pain points</a></span></li></ul></li><li><span><a href=\"#setup-the-tool\" data-toc-modified-id=\"setup-the-tool-1.2.3\">setup the tool</a></span></li><li><span><a href=\"#beatiful-is-better-than-ugly\" data-toc-modified-id=\"beatiful-is-better-than-ugly-1.2.4\">beatiful is better than ugly</a></span><ul class=\"toc-item\"><li><span><a href=\"#code-beautify\" data-toc-modified-id=\"code-beautify-1.2.4.1\">code beautify</a></span></li><li><span><a href=\"#more\" data-toc-modified-id=\"more-1.2.4.2\">more</a></span></li></ul></li><li><span><a href=\"#it's-a-kind-of-magic\" data-toc-modified-id=\"it's-a-kind-of-magic-1.2.5\">it's a kind of <em>magic</em></a></span></li><li><span><a href=\"#plugins\" data-toc-modified-id=\"plugins-1.2.6\">plugins</a></span></li><li><span><a href=\"#version-control\" data-toc-modified-id=\"version-control-1.2.7\">version control</a></span></li><li><span><a href=\"#sessions\" data-toc-modified-id=\"sessions-1.2.8\">sessions</a></span></li></ul></li><li><span><a href=\"#Simple-is-better-than-complicated\" data-toc-modified-id=\"Simple-is-better-than-complicated-1.3\">Simple is better than complicated</a></span><ul class=\"toc-item\"><li><span><a href=\"#writing-a-paper...\" data-toc-modified-id=\"writing-a-paper...-1.3.1\">writing a paper...</a></span></li><li><span><a href=\"#...that-turns-into-slides\" data-toc-modified-id=\"...that-turns-into-slides-1.3.2\">...that turns into slides</a></span></li><li><span><a href=\"#pythonic-workflows/pipeline\" data-toc-modified-id=\"pythonic-workflows/pipeline-1.3.3\">pythonic workflows/pipeline</a></span></li><li><span><a href=\"#functions-as-services\" data-toc-modified-id=\"functions-as-services-1.3.4\">functions as services</a></span></li></ul></li><li><span><a href=\"#Roadmap\" data-toc-modified-id=\"Roadmap-1.4\">Roadmap</a></span><ul class=\"toc-item\"><li><span><a href=\"#blog\" data-toc-modified-id=\"blog-1.4.1\">blog</a></span></li><li><span><a href=\"#pair-programming\" data-toc-modified-id=\"pair-programming-1.4.2\">pair programming</a></span></li><li><span><a href=\"#tech-crafter\" data-toc-modified-id=\"tech-crafter-1.4.3\">tech crafter</a></span><ul class=\"toc-item\"><li><span><a href=\"#The-five-hour-rule\" data-toc-modified-id=\"The-five-hour-rule-1.4.3.1\">The five-hour rule</a></span></li></ul></li></ul></li><li><span><a href=\"#the-end\" data-toc-modified-id=\"the-end-1.5\">the end</a></span><ul class=\"toc-item\"><li><span><a href=\"#follow-the-blog\" data-toc-modified-id=\"follow-the-blog-1.5.1\">follow the blog</a></span></li></ul></li></ul></li></ul></div>"
   ]
  },
  {
   "cell_type": "markdown",
   "metadata": {
    "slideshow": {
     "slide_type": "slide"
    }
   },
   "source": [
    "# DATANOTE"
   ]
  },
  {
   "cell_type": "markdown",
   "metadata": {
    "slideshow": {
     "slide_type": "fragment"
    }
   },
   "source": [
    "A virtual place \n",
    "\n",
    "where `modern data-driven scientists` \n",
    "\n",
    "unfold the <b>magic</b> of coding"
   ]
  },
  {
   "cell_type": "markdown",
   "metadata": {
    "slideshow": {
     "slide_type": "fragment"
    }
   },
   "source": [
    "\n",
    "https://datanote.me\n",
    "\n",
    "<small>\n",
    "    Paolo D’Onorio De Meo \n",
    "    (paolo@datanote.me)\n",
    "</small>"
   ]
  },
  {
   "cell_type": "markdown",
   "metadata": {
    "slideshow": {
     "slide_type": "slide"
    }
   },
   "source": [
    "## Motivation\n",
    "\n",
    "e.g. my story"
   ]
  },
  {
   "cell_type": "markdown",
   "metadata": {
    "slideshow": {
     "slide_type": "subslide"
    }
   },
   "source": [
    "### I’m Paolo"
   ]
  },
  {
   "cell_type": "markdown",
   "metadata": {
    "slideshow": {
     "slide_type": "fragment"
    }
   },
   "source": [
    "+ Web app and infrastructure developer for data analysis"
   ]
  },
  {
   "cell_type": "markdown",
   "metadata": {
    "slideshow": {
     "slide_type": "fragment"
    }
   },
   "source": [
    "+ Really passionate about things I do!\n",
    "\n",
    "I've left my regular job to work in a startup, \n",
    "on a mission for a better internet for all\n"
   ]
  },
  {
   "cell_type": "markdown",
   "metadata": {
    "slideshow": {
     "slide_type": "subslide"
    }
   },
   "source": [
    "+ Senior developer \n",
    "    - 20+ years of experience\n",
    "\n",
    "+ Pipelines design, automatization and \n",
    "    - 10+ y experience: supporting data analysis \n",
    "    - High performance and High throughput context\n",
    "\n",
    "+ Management\n",
    "    - team leader\n",
    "    - technical coordinator\n",
    "    - supervisor\n",
    "    - product manager\n",
    "+ Speaker and traveler across Europe and USA"
   ]
  },
  {
   "cell_type": "markdown",
   "metadata": {
    "slideshow": {
     "slide_type": "subslide"
    }
   },
   "source": [
    "+ Love to teach \n",
    "    + Python and notebooks above all"
   ]
  },
  {
   "cell_type": "markdown",
   "metadata": {
    "slideshow": {
     "slide_type": "fragment"
    }
   },
   "source": [
    "+ Love even more [to make people understand from zero](https://twitter.com/paolodonorio/status/1224648947748278272)\n",
    "    + scientists with no programming background at all\n",
    "    + or that have random coding experience (e.g. from copy/paste)"
   ]
  },
  {
   "cell_type": "markdown",
   "metadata": {
    "slideshow": {
     "slide_type": "subslide"
    }
   },
   "source": [
    "### Proof\n",
    "\n",
    "CTO"
   ]
  },
  {
   "cell_type": "markdown",
   "metadata": {
    "slideshow": {
     "slide_type": "subslide"
    }
   },
   "source": [
    "- the wisdom of the crowd\n",
    "- educate on the use of the web, sources, trust\n",
    "- push journalism as it should be"
   ]
  },
  {
   "cell_type": "markdown",
   "metadata": {
    "slideshow": {
     "slide_type": "subslide"
    }
   },
   "source": [
    "\n",
    "> the truth is what we lean for\n",
    "\n",
    "[Weinstein and #MeToo](https://www.huffpost.com/entry/megan-twohey-she-said-harvey-weinstein_n_5e332566c5b611ac94d18d6d)"
   ]
  },
  {
   "cell_type": "markdown",
   "metadata": {
    "slideshow": {
     "slide_type": "subslide"
    }
   },
   "source": [
    "### A new mission"
   ]
  },
  {
   "cell_type": "markdown",
   "metadata": {
    "slideshow": {
     "slide_type": "fragment"
    }
   },
   "source": [
    "How to make better and faster science?"
   ]
  },
  {
   "cell_type": "markdown",
   "metadata": {
    "slideshow": {
     "slide_type": "subslide"
    }
   },
   "source": [
    "The idea:\n",
    "\n",
    "Supporting and teaching data scientists\n",
    "\n",
    "through Python and Notebooks and other incredible tools\n",
    "\n",
    "for their data workflows/pipelines on analysis"
   ]
  },
  {
   "cell_type": "markdown",
   "metadata": {
    "slideshow": {
     "slide_type": "subslide"
    }
   },
   "source": [
    "#### Fuel the passion\n",
    "\n",
    "rediscover the magic"
   ]
  },
  {
   "cell_type": "markdown",
   "metadata": {
    "slideshow": {
     "slide_type": "fragment"
    }
   },
   "source": [
    "> Solo in cima all'entusiasmo l'essere umano vede il mondo esattamente\n",
    "(Marina Cvetaeva)"
   ]
  },
  {
   "cell_type": "markdown",
   "metadata": {
    "slideshow": {
     "slide_type": "subslide"
    }
   },
   "source": [
    "We are living in difficult times\n",
    "\n",
    "- Italy dedicated in 2017 3.8% of the GDP to education/research\n",
    "- 3 steps away from the bottom of EU\n",
    "- it was 4.6% in 2009, and has only diminished since then\n",
    "\n",
    "[ref](https://twitter.com/paolodonorio/status/1224379290634145792)"
   ]
  },
  {
   "cell_type": "markdown",
   "metadata": {
    "slideshow": {
     "slide_type": "subslide"
    }
   },
   "source": [
    "Runaway or stay?\n",
    "\n",
    "> You have to make it happen\n",
    "(Denis Diderot)"
   ]
  },
  {
   "cell_type": "markdown",
   "metadata": {
    "slideshow": {
     "slide_type": "slide"
    }
   },
   "source": [
    "## The environment"
   ]
  },
  {
   "cell_type": "markdown",
   "metadata": {
    "slideshow": {
     "slide_type": "subslide"
    }
   },
   "source": [
    "### infrastructure: containers"
   ]
  },
  {
   "cell_type": "markdown",
   "metadata": {
    "slideshow": {
     "slide_type": "fragment"
    }
   },
   "source": [
    "- docker images, volumes, networks, containers, stacks\n",
    "- kubernetes\n",
    "- that's how the cloud works nowadays\n",
    "- serverless over the horizon"
   ]
  },
  {
   "cell_type": "markdown",
   "metadata": {
    "slideshow": {
     "slide_type": "subslide"
    }
   },
   "source": [
    "### development: notebooks"
   ]
  },
  {
   "cell_type": "markdown",
   "metadata": {
    "slideshow": {
     "slide_type": "subslide"
    }
   },
   "source": [
    "#### advantages\n",
    "\n",
    "+ server that runs code in a remote machine (via browser)\n",
    "+ multi user by default\n",
    "+ file explorer, editor and terminal via web in the same platform\n",
    "+ similar to a web IDE but much more powerful\n",
    "+ easy access to docs\n",
    "+ extensible"
   ]
  },
  {
   "cell_type": "markdown",
   "metadata": {
    "slideshow": {
     "slide_type": "subslide"
    }
   },
   "source": [
    "#### pain points\n",
    "\n",
    "[ref](http://web.eecs.utk.edu/~azh/blog/notebookpainpoints.html)"
   ]
  },
  {
   "cell_type": "markdown",
   "metadata": {
    "slideshow": {
     "slide_type": "subslide"
    }
   },
   "source": [
    "pandas \n",
    "\n",
    "> yet the API is all over the place\n",
    "[ref](https://news.ycombinator.com/item?id=22187121)"
   ]
  },
  {
   "cell_type": "markdown",
   "metadata": {},
   "source": [
    "1.0 is out\n",
    "- https://pandas.pydata.org/pandas-docs/stable/whatsnew/v1.0.0.html\n",
    "- https://www.anaconda.com/pandas-1-0-is-here\n",
    "\n",
    "1.0.1 on the way\n",
    "https://twitter.com/jorisvdbossche/status/1223307270416732162"
   ]
  },
  {
   "cell_type": "markdown",
   "metadata": {
    "slideshow": {
     "slide_type": "subslide"
    }
   },
   "source": [
    "### setup the tool\n",
    "\n",
    "tips&tricks from experience"
   ]
  },
  {
   "cell_type": "markdown",
   "metadata": {
    "slideshow": {
     "slide_type": "fragment"
    }
   },
   "source": [
    "The focus *should be* on **your data** and its meaning."
   ]
  },
  {
   "cell_type": "markdown",
   "metadata": {
    "slideshow": {
     "slide_type": "subslide"
    }
   },
   "source": [
    "### beatiful is better than ugly\n",
    "\n",
    "(from `The zen of Python`)"
   ]
  },
  {
   "cell_type": "markdown",
   "metadata": {
    "slideshow": {
     "slide_type": "fragment"
    }
   },
   "source": [
    "indentation"
   ]
  },
  {
   "cell_type": "markdown",
   "metadata": {
    "slideshow": {
     "slide_type": "subslide"
    }
   },
   "source": [
    "#### code beautify"
   ]
  },
  {
   "cell_type": "markdown",
   "metadata": {},
   "source": [
    "black"
   ]
  },
  {
   "cell_type": "markdown",
   "metadata": {},
   "source": [
    "flake\n",
    "https://github.com/deppen8/pandas-vet"
   ]
  },
  {
   "cell_type": "markdown",
   "metadata": {
    "slideshow": {
     "slide_type": "subslide"
    }
   },
   "source": [
    "#### more"
   ]
  },
  {
   "cell_type": "markdown",
   "metadata": {},
   "source": [
    "data validation\n",
    "https://pandera.readthedocs.io/en/stable"
   ]
  },
  {
   "cell_type": "markdown",
   "metadata": {
    "slideshow": {
     "slide_type": "subslide"
    }
   },
   "source": [
    "### it's a kind of *magic*"
   ]
  },
  {
   "cell_type": "markdown",
   "metadata": {
    "slideshow": {
     "slide_type": "-"
    }
   },
   "source": [
    "shortcuts"
   ]
  },
  {
   "cell_type": "code",
   "execution_count": 4,
   "metadata": {},
   "outputs": [],
   "source": [
    "%quickref"
   ]
  },
  {
   "cell_type": "markdown",
   "metadata": {},
   "source": [
    "https://github.com/pdonorio/ipymagics"
   ]
  },
  {
   "cell_type": "markdown",
   "metadata": {
    "slideshow": {
     "slide_type": "subslide"
    }
   },
   "source": [
    "### plugins"
   ]
  },
  {
   "cell_type": "markdown",
   "metadata": {},
   "source": [
    "[example](http://localhost:8888/nbextensions)"
   ]
  },
  {
   "cell_type": "markdown",
   "metadata": {
    "slideshow": {
     "slide_type": "subslide"
    }
   },
   "source": [
    "extensions\n",
    "\n",
    "https://medium.com/@maxtingle/10-jupyter-notebook-extensions-making-my-lyfe-easier-f40139a334ce\n",
    "\n",
    "https://jupyter-contrib-nbextensions.readthedocs.io/en/latest/nbextensions.html#list-of-provided-nbextensions"
   ]
  },
  {
   "cell_type": "markdown",
   "metadata": {},
   "source": [
    "freeze"
   ]
  },
  {
   "cell_type": "markdown",
   "metadata": {},
   "source": [
    "watermarks\n",
    "\n",
    "[example](https://github.com/rasbt/watermark)"
   ]
  },
  {
   "cell_type": "markdown",
   "metadata": {
    "slideshow": {
     "slide_type": "subslide"
    }
   },
   "source": [
    "### version control"
   ]
  },
  {
   "cell_type": "markdown",
   "metadata": {
    "slideshow": {
     "slide_type": "-"
    }
   },
   "source": [
    "git diff\n",
    "\n",
    "nbdime\n",
    "https://www.slideshare.net/AlessiaMarcolini/version-control-for-data-science\n",
    "https://nbdime.readthedocs.io/en/latest/extensions.html\n",
    "    \n",
    "automatically export to python\n",
    "https://github.com/jupyterhub/jupyterhub/issues/1412#issuecomment-329146161\n"
   ]
  },
  {
   "cell_type": "markdown",
   "metadata": {
    "slideshow": {
     "slide_type": "subslide"
    }
   },
   "source": [
    "### sessions"
   ]
  },
  {
   "cell_type": "markdown",
   "metadata": {},
   "source": [
    "export / import"
   ]
  },
  {
   "cell_type": "markdown",
   "metadata": {
    "slideshow": {
     "slide_type": "slide"
    }
   },
   "source": [
    "## Simple is better than complicated\n",
    "\n",
    "but complicated is better than complex"
   ]
  },
  {
   "cell_type": "markdown",
   "metadata": {
    "slideshow": {
     "slide_type": "subslide"
    }
   },
   "source": [
    "### writing a paper..."
   ]
  },
  {
   "cell_type": "markdown",
   "metadata": {},
   "source": [
    "- latex extension / conversion\n",
    "- plots\n",
    "- github support to read only viewer\n",
    "- nbviewer free support to public git files with slides"
   ]
  },
  {
   "cell_type": "markdown",
   "metadata": {
    "slideshow": {
     "slide_type": "subslide"
    }
   },
   "source": [
    "### ...that turns into slides"
   ]
  },
  {
   "cell_type": "markdown",
   "metadata": {},
   "source": [
    "your paper cells, plots, commentary and code\n",
    "\n",
    "can be easily converted into a slideshow\n",
    "\n",
    "[example]()"
   ]
  },
  {
   "cell_type": "markdown",
   "metadata": {
    "slideshow": {
     "slide_type": "subslide"
    }
   },
   "source": [
    "### pythonic workflows/pipeline\n",
    "\n",
    "building a magic command \n",
    "\n",
    "that submits configured jobs to a queue\n",
    "\n",
    "and verify the status"
   ]
  },
  {
   "cell_type": "code",
   "execution_count": null,
   "metadata": {
    "slideshow": {
     "slide_type": "subslide"
    }
   },
   "outputs": [],
   "source": [
    "%%workflow\n",
    "[\n",
    "    # 1 step\n",
    "    {\n",
    "        \"algorithm\": \"alignment\",\n",
    "        \"toolkit\": \"samtools\",  # has default\n",
    "        \"version\": \"1.2\",  # has default\n",
    "        \"input\": \"/path/to/data/folder/input.format\",  # goes through validation\n",
    "        \"command\": \"helloworld\"\n",
    "    },\n",
    "    # 2 step\n",
    "    {\n",
    "        \"algorithm\": \"peakfider\"\n",
    "        # input is automatically precedent step output\n",
    "        # which gets validated\n",
    "    },\n",
    "    # 3 step\n",
    "    {\n",
    "        \"algorithm\": \"compression\"\n",
    "    },\n",
    "\n",
    "]\n",
    "\n",
    "# produces as output the ID of the job in our queue\n",
    "# e.g. '2379e812-5628-492d-ac89-8e02cb284732'"
   ]
  },
  {
   "cell_type": "code",
   "execution_count": null,
   "metadata": {
    "slideshow": {
     "slide_type": "subslide"
    }
   },
   "outputs": [],
   "source": [
    "%%workflow status\n",
    "\"2379e812-5628-492d-ac89-8e02cb284732\"  # <UUID>\n",
    "\n",
    "# either tells you \"failed\", \"running\", \"non existing\" or\n",
    "# {\"status\": \"completed\", \"output\": \"/path/to/data/folder/compression/output.zip\"}"
   ]
  },
  {
   "cell_type": "markdown",
   "metadata": {
    "slideshow": {
     "slide_type": "subslide"
    }
   },
   "source": [
    "### functions as services"
   ]
  },
  {
   "cell_type": "markdown",
   "metadata": {},
   "source": [
    "take a function\n",
    "\n",
    "build an API\n",
    "\n",
    "have an internal helper to use it"
   ]
  },
  {
   "cell_type": "markdown",
   "metadata": {
    "slideshow": {
     "slide_type": "slide"
    }
   },
   "source": [
    "## Roadmap"
   ]
  },
  {
   "cell_type": "markdown",
   "metadata": {
    "slideshow": {
     "slide_type": "subslide"
    }
   },
   "source": [
    "- blog: base tutorials for setup\n",
    "- hands dirty: pair programming with data scientists in labs\n",
    "- premiumum newsletter: templates of working solutions, continous update to tools and tips\n",
    "- online video course: from zero to (data science) hero\n",
    "- publish a book"
   ]
  },
  {
   "cell_type": "markdown",
   "metadata": {
    "slideshow": {
     "slide_type": "subslide"
    }
   },
   "source": [
    "### blog"
   ]
  },
  {
   "cell_type": "markdown",
   "metadata": {
    "slideshow": {
     "slide_type": "subslide"
    }
   },
   "source": [
    "There's a free version that goes out once a week and paid subscribers get access to one more newsletter per week, \n",
    "\n",
    "it's more about the idea of supporting in-depth writing about tech"
   ]
  },
  {
   "cell_type": "markdown",
   "metadata": {
    "slideshow": {
     "slide_type": "subslide"
    }
   },
   "source": [
    "### pair programming"
   ]
  },
  {
   "cell_type": "markdown",
   "metadata": {
    "slideshow": {
     "slide_type": "subslide"
    }
   },
   "source": [
    "bla bla bla"
   ]
  },
  {
   "cell_type": "markdown",
   "metadata": {
    "slideshow": {
     "slide_type": "slide"
    }
   },
   "source": [
    "### tech crafter\n",
    "\n",
    "> keeping up-to-date"
   ]
  },
  {
   "cell_type": "markdown",
   "metadata": {
    "slideshow": {
     "slide_type": "subslide"
    }
   },
   "source": [
    "> A un bambino si insegna a dichiarare la professione, il risultato finale, non il percorso.\n",
    "Nessuno di loro dice: da grande voglio fare l'apprendista. Eppure è quello che si è continuamente.\n",
    "\n",
    "Erri De Luca"
   ]
  },
  {
   "cell_type": "markdown",
   "metadata": {
    "slideshow": {
     "slide_type": "subslide"
    }
   },
   "source": [
    "#### The five-hour rule\n",
    "\n",
    "No matter how busy successful people are, \n",
    "\n",
    "they always spend at least an hour a day (thus five hours a week) \n",
    "\n",
    "learning or practicing. \n",
    "\n",
    "And they do this across their entire career.\n",
    "\n",
    "\n",
    "[ref](https://deepstash.com/idea/20126/the-five-hour-rule)"
   ]
  },
  {
   "cell_type": "markdown",
   "metadata": {
    "slideshow": {
     "slide_type": "slide"
    }
   },
   "source": [
    "## the end"
   ]
  },
  {
   "cell_type": "markdown",
   "metadata": {
    "slideshow": {
     "slide_type": "-"
    }
   },
   "source": [
    "### follow the blog\n",
    "\n",
    "[for more](https://datanote.me/the-beginning-is-the-end/abs)"
   ]
  },
  {
   "cell_type": "markdown",
   "metadata": {
    "slideshow": {
     "slide_type": "skip"
    }
   },
   "source": [
    "---"
   ]
  }
 ],
 "metadata": {
  "celltoolbar": "Slideshow",
  "kernelspec": {
   "display_name": "Python 3",
   "language": "python",
   "name": "python3"
  },
  "language_info": {
   "codemirror_mode": {
    "name": "ipython",
    "version": 3
   },
   "file_extension": ".py",
   "mimetype": "text/x-python",
   "name": "python",
   "nbconvert_exporter": "python",
   "pygments_lexer": "ipython3",
   "version": "3.8.1"
  },
  "toc": {
   "base_numbering": 1,
   "nav_menu": {},
   "number_sections": false,
   "sideBar": true,
   "skip_h1_title": false,
   "title_cell": "Table of Contents",
   "title_sidebar": "Contents",
   "toc_cell": true,
   "toc_position": {
    "height": "calc(100% - 180px)",
    "left": "10px",
    "top": "150px",
    "width": "266.594px"
   },
   "toc_section_display": false,
   "toc_window_display": false
  }
 },
 "nbformat": 4,
 "nbformat_minor": 4
}
