{
 "cells": [
  {
   "cell_type": "markdown",
   "metadata": {
    "slideshow": {
     "slide_type": "-"
    }
   },
   "source": [
    "# links"
   ]
  },
  {
   "cell_type": "markdown",
   "metadata": {
    "slideshow": {
     "slide_type": "-"
    }
   },
   "source": [
    "extensions\n",
    "\n",
    "https://medium.com/@maxtingle/10-jupyter-notebook-extensions-making-my-lyfe-easier-f40139a334ce\n",
    "\n",
    "https://jupyter-contrib-nbextensions.readthedocs.io/en/latest/nbextensions.html#list-of-provided-nbextensions"
   ]
  },
  {
   "cell_type": "markdown",
   "metadata": {},
   "source": [
    "painpoints\n",
    "\n",
    "http://web.eecs.utk.edu/~azh/blog/notebookpainpoints.html"
   ]
  },
  {
   "cell_type": "markdown",
   "metadata": {},
   "source": [
    "magic\n",
    "\n",
    "https://github.com/pdonorio/ipymagics"
   ]
  },
  {
   "cell_type": "markdown",
   "metadata": {},
   "source": [
    "Come for the Language, Stay for the Community\n",
    "\n",
    "https://twitter.com/brettsky/status/830527537105113088"
   ]
  },
  {
   "cell_type": "markdown",
   "metadata": {},
   "source": [
    "---"
   ]
  },
  {
   "cell_type": "markdown",
   "metadata": {},
   "source": [
    "https://twitter.com/paolodonorio/status/1224379290634145792"
   ]
  },
  {
   "cell_type": "markdown",
   "metadata": {},
   "source": [
    "https://datanote.me/the-beginning-is-the-end/"
   ]
  }
 ],
 "metadata": {
  "kernelspec": {
   "display_name": "Python 3",
   "language": "python",
   "name": "python3"
  },
  "language_info": {
   "codemirror_mode": {
    "name": "ipython",
    "version": 3
   },
   "file_extension": ".py",
   "mimetype": "text/x-python",
   "name": "python",
   "nbconvert_exporter": "python",
   "pygments_lexer": "ipython3",
   "version": "3.8.1"
  }
 },
 "nbformat": 4,
 "nbformat_minor": 4
}
